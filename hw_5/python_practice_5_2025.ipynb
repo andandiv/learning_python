{
 "nbformat": 4,
 "nbformat_minor": 0,
 "metadata": {
  "colab": {
   "provenance": []
  },
  "kernelspec": {
   "name": "python3",
   "display_name": "Python 3 (ipykernel)",
   "language": "python"
  },
  "language_info": {
   "name": "python"
  }
 },
 "cells": [
  {
   "cell_type": "markdown",
   "source": [
    "# I. OOP"
   ],
   "metadata": {
    "id": "5qV_sehzFCTp"
   }
  },
  {
   "cell_type": "markdown",
   "source": [
    "1. (6б). Створіть клас Building, додайте три атрибути, один з яких має значення за замовчуванням та два методи на свій розсуд."
   ],
   "metadata": {
    "id": "tx_U_hOALyfg"
   }
  },
  {
   "cell_type": "code",
   "source": [
    "class Building:\n",
    "    door = 'wooden door'\n",
    "    \n",
    "    def __init__(self, windows, walls):\n",
    "        self.walls = walls\n",
    "        self.windows = windows\n",
    "    \n",
    "    def breakWindows(self):\n",
    "        self.windows = None\n",
    "    def breakDoor(self):\n",
    "        self.door = None\n"
   ],
   "metadata": {
    "id": "-Vf895KaL88N"
   },
   "execution_count": null,
   "outputs": []
  },
  {
   "cell_type": "markdown",
   "source": [
    "2. (2б). Створіть два обʼєкти цього класу, де один з обʼєктів створюється із дефолтним значенням атрибуту. На одному обʼєкті отримайте значення його атрибуту, а на іншому викличте один з його методів."
   ],
   "metadata": {
    "id": "X_UlOMB0L93w"
   }
  },
  {
   "cell_type": "code",
   "source": [
    "building1 = Building('glass', 'stone')\n",
    "\n",
    "print(building1.door)\n",
    "\n",
    "building2 = Building('none', 'stone')\n",
    "building2.breakDoor()"
   ],
   "metadata": {
    "id": "7gBu0ESOMCpG"
   },
   "execution_count": null,
   "outputs": []
  },
  {
   "cell_type": "markdown",
   "source": [
    "3. (5б). Створіть клас, де атрибути мають різні рівні доступу. Спробуйте отримати їхні значення та опишіть результати."
   ],
   "metadata": {
    "id": "HoqSCZt1MHn5"
   }
  },
  {
   "cell_type": "code",
   "source": [
    "class Boat:\n",
    "    def __init__(self):\n",
    "        self.windows = \"glass\"\n",
    "        self.__anchor = \"anchor\"\n",
    "\n",
    "boat = Boat()\n",
    "\n",
    "print(boat.windows)\n",
    "print(boat.__anchor)\n",
    "\n",
    "#публічний можна брати, приватний ні"
   ],
   "metadata": {
    "id": "r9b3vJxBMSPV",
    "ExecuteTime": {
     "end_time": "2025-03-26T21:39:08.338412Z",
     "start_time": "2025-03-26T21:39:08.117421Z"
    }
   },
   "outputs": [
    {
     "name": "stdout",
     "output_type": "stream",
     "text": [
      "glass\n"
     ]
    },
    {
     "ename": "AttributeError",
     "evalue": "'Boat' object has no attribute '__anchor'",
     "output_type": "error",
     "traceback": [
      "\u001B[1;31m---------------------------------------------------------------------------\u001B[0m",
      "\u001B[1;31mAttributeError\u001B[0m                            Traceback (most recent call last)",
      "Cell \u001B[1;32mIn[1], line 9\u001B[0m\n\u001B[0;32m      6\u001B[0m boat \u001B[38;5;241m=\u001B[39m Boat()\n\u001B[0;32m      8\u001B[0m \u001B[38;5;28mprint\u001B[39m(boat\u001B[38;5;241m.\u001B[39mwindows)\n\u001B[1;32m----> 9\u001B[0m \u001B[38;5;28mprint\u001B[39m(\u001B[43mboat\u001B[49m\u001B[38;5;241;43m.\u001B[39;49m\u001B[43m__anchor\u001B[49m)\n",
      "\u001B[1;31mAttributeError\u001B[0m: 'Boat' object has no attribute '__anchor'"
     ]
    }
   ],
   "execution_count": 1
  },
  {
   "cell_type": "markdown",
   "source": [
    "4. (7б). Як ви розумієте термін self? Для чого використовується метод __init __?"
   ],
   "metadata": {
    "id": "5op2m2vgMSkZ"
   }
  },
  {
   "cell_type": "markdown",
   "source": [
    "__init__ це конструктор об'єкту,\n",
    "self це як this в інших мовах, якщо чесно чітко передавати вказівник на себе кожен раз не прям зручно"
   ],
   "metadata": {
    "id": "DyiPqNRvMasx"
   }
  },
  {
   "cell_type": "markdown",
   "source": [
    "5. (9б). Створіть клас 3D-фігура без атрибутів, з методом get_volume для отримання об'єму фігури, що повертає 0 та __add __, який приймає self та other в якості аргументів, а повертає суму об'ємів 3d-фігур self та other."
   ],
   "metadata": {
    "id": "-6X8EGfjMd2y"
   }
  },
  {
   "cell_type": "code",
   "source": [
    "class OBJ3d:\n",
    "    \n",
    "    def get_volume(self):\n",
    "        return 0\n",
    "    \n",
    "    def __add__(self, other):\n",
    "        return self.get_volume() + other.get_volume()"
   ],
   "metadata": {
    "id": "4rvO_wYUMaEr",
    "ExecuteTime": {
     "end_time": "2025-03-26T21:48:15.504578Z",
     "start_time": "2025-03-26T21:48:15.500053Z"
    }
   },
   "outputs": [],
   "execution_count": 3
  },
  {
   "cell_type": "markdown",
   "source": [
    "6. (11б). Створіть 2 дочірніх класи від 3d-фігура: Циліндр та Куб, які мають атрибути, необхідні для розрахунку об'єму. Визначте метод get_volume в кожному з них так, щоби вони розраховували об'єм у залежності від формули для кожного типу фігури. Створіть обʼєкт класу Циліндр та обʼєкт класу Куб. Виконайте операцію суми за допомогою оператора + між ними, аби знайти сумарний об'єм."
   ],
   "metadata": {
    "id": "SFcKnnv5Mo_z"
   }
  },
  {
   "cell_type": "code",
   "source": [
    "import math\n",
    "\n",
    "\n",
    "class Cube(OBJ3d):\n",
    "    \n",
    "    def __init__(self, side):\n",
    "        self.side = side    \n",
    "    \n",
    "    def get_volume(self):\n",
    "        return self.side ** 3\n",
    "\n",
    "class Cylinder(OBJ3d):\n",
    "    def __init__(self, height, radius):\n",
    "        self.height = height\n",
    "        self.radius = radius\n",
    "\n",
    "    def get_volume(self):\n",
    "        return math.pi * self.radius**2 * self.height \n",
    "    \n",
    "cube = Cube(2)\n",
    "cylinder = Cylinder(2,3)\n",
    "\n",
    "print(cube+cylinder)"
   ],
   "metadata": {
    "id": "H3GVNr69Muf3",
    "ExecuteTime": {
     "end_time": "2025-03-26T21:48:18.071830Z",
     "start_time": "2025-03-26T21:48:18.064125Z"
    }
   },
   "outputs": [
    {
     "name": "stdout",
     "output_type": "stream",
     "text": [
      "64.54866776461628\n"
     ]
    }
   ],
   "execution_count": 4
  },
  {
   "cell_type": "markdown",
   "source": [
    "7. (3б). Продемонструйте різницю між isinstance та issubclass."
   ],
   "metadata": {
    "id": "HCvR206YMvLK"
   }
  },
  {
   "cell_type": "code",
   "source": [
    "#чи є instance певного класу/ або ж є instance нащадку\n",
    "print(isinstance(cube, OBJ3d))\n",
    "print(isinstance(cylinder, Cylinder))\n",
    "\n",
    "#чи є він дочірним?\n",
    "print(issubclass(OBJ3d, Cube))\n",
    "print(issubclass(OBJ3d, OBJ3d))"
   ],
   "metadata": {
    "id": "L_V1bBvDM0GN",
    "ExecuteTime": {
     "end_time": "2025-03-26T21:52:35.903165Z",
     "start_time": "2025-03-26T21:52:35.892500Z"
    }
   },
   "outputs": [
    {
     "name": "stdout",
     "output_type": "stream",
     "text": [
      "True\n",
      "True\n",
      "False\n",
      "True\n"
     ]
    }
   ],
   "execution_count": 10
  },
  {
   "cell_type": "markdown",
   "source": "8. (13б). Створіть клас EWallet з приватними атрибутами balance та id. Реалізуйте методи поповнення та зняття коштів, забезпечивши належну інкапсуляцію. Підказка: використовуйте декоратори property та setter.",
   "metadata": {
    "id": "jjsaBZ-iM0Qq"
   }
  },
  {
   "cell_type": "code",
   "source": [
    "class EWallet:\n",
    "    def __init__(self, di, balance):\n",
    "        self.__id = id\n",
    "        self.__balance = balance\n",
    "        \n",
    "        \n",
    "    def add(self, amount):\n",
    "        self.__balance += amount\n",
    "    \n",
    "    def pay(self, amount):\n",
    "        self.__balance -= amount\n",
    "        \n",
    "    @property\n",
    "    def balance(self):\n",
    "        return self.__balance\n",
    "    \n",
    "    @balance.setter\n",
    "    def balance(self, amount):\n",
    "        self.__balance = amount\n",
    "\n",
    "    @property\n",
    "    def id(self):\n",
    "        return self.__id    \n",
    "\n",
    "    \n",
    "wallet = EWallet(0,0)\n",
    "\n",
    "wallet.balance = 100\n",
    "print(wallet.balance)\n",
    "\n",
    "wallet.add(100)\n",
    "print(wallet.balance)\n",
    "\n",
    "wallet.pay(100)\n",
    "print(wallet.balance)\n",
    "        "
   ],
   "metadata": {
    "id": "xCvZ7lh8M7YA",
    "ExecuteTime": {
     "end_time": "2025-03-26T22:01:01.655450Z",
     "start_time": "2025-03-26T22:01:01.649353Z"
    }
   },
   "outputs": [
    {
     "name": "stdout",
     "output_type": "stream",
     "text": [
      "100\n",
      "200\n",
      "100\n"
     ]
    }
   ],
   "execution_count": 13
  },
  {
   "cell_type": "markdown",
   "source": [
    "9. (11б). Створіть клас ShoppingCart, який містить список об'єктів типу Item. Реалізуйте методи для додавання айтемів, їх видалення та відображення списку айтемів."
   ],
   "metadata": {
    "id": "tIzL2SJTM8ft"
   }
  },
  {
   "cell_type": "code",
   "source": [
    "class Item:\n",
    "    pass\n",
    "\n",
    "class ShoppingCart:\n",
    "    \n",
    "    def __init__(self, items):\n",
    "        self.items = items\n",
    "        \n",
    "    def addItem(self, item):\n",
    "        self.items.append(item)\n",
    "        \n",
    "    def popItem(self):\n",
    "        return self.items.pop()\n",
    "    \n",
    "    \n",
    "    def show(self):\n",
    "        print(self.items)\n",
    "        \n",
    "cart = ShoppingCart([Item(), Item(), Item()])\n",
    "\n",
    "cart.show()\n",
    "print(cart.popItem())\n",
    "cart.addItem(Item())\n",
    "cart.show()\n",
    "    "
   ],
   "metadata": {
    "id": "HWxfJKLtNAUZ",
    "ExecuteTime": {
     "end_time": "2025-03-26T22:05:14.857627Z",
     "start_time": "2025-03-26T22:05:14.852110Z"
    }
   },
   "outputs": [
    {
     "name": "stdout",
     "output_type": "stream",
     "text": [
      "[<__main__.Item object at 0x000001A6D32E7200>, <__main__.Item object at 0x000001A6D32E7980>, <__main__.Item object at 0x000001A6D32EBE60>]\n",
      "<__main__.Item object at 0x000001A6D32EBE60>\n",
      "[<__main__.Item object at 0x000001A6D32E7200>, <__main__.Item object at 0x000001A6D32E7980>, <__main__.Item object at 0x000001A6D32CAE40>]\n"
     ]
    }
   ],
   "execution_count": 21
  },
  {
   "cell_type": "markdown",
   "source": [
    "10. (13б). Створіть клас Vehicle з атрибутами brand (manufacturer) та production_age. Створіть ще один клас Engine з такими атрибутами, як type (ex. petrol) та size (volume, litres). Створіть клас Car, який успадковує обидва класи Vehicle та Engine. Продемонструйте використання множинної спадковості, створивши обʼєкт класу Car та отримавши mro для цього класу."
   ],
   "metadata": {
    "id": "lmV8pAwwNIqu"
   }
  },
  {
   "cell_type": "code",
   "source": [
    "class Vehicle:\n",
    "    def __init__(self, brand, production_age):\n",
    "        self.brand = brand\n",
    "        self.production_age = production_age\n",
    "        \n",
    "class Engine:\n",
    "    def __init__(self, type, size):\n",
    "        self.type = type\n",
    "        self.size = size\n",
    "        \n",
    "class Car(Vehicle, Engine):\n",
    "    def __init__(self, brand, production_age, engine_type, engine_size):\n",
    "        Vehicle.__init__(self, brand, production_age)\n",
    "        Engine.__init__(self, engine_type, engine_size)\n",
    "\n",
    "\n",
    "car = Car('toyota', 5, 'petrol', 50)\n",
    "\n",
    "print(car.type)\n",
    "print(car.size)\n",
    "print(car.brand)\n",
    "print(car.production_age)"
   ],
   "metadata": {
    "id": "R49grKlWNPeN",
    "ExecuteTime": {
     "end_time": "2025-03-26T22:11:15.700647Z",
     "start_time": "2025-03-26T22:11:15.685943Z"
    }
   },
   "outputs": [
    {
     "name": "stdout",
     "output_type": "stream",
     "text": [
      "petrol\n",
      "50\n",
      "toyota\n",
      "5\n"
     ]
    }
   ],
   "execution_count": 22
  },
  {
   "cell_type": "markdown",
   "source": [
    "# II. Iterator"
   ],
   "metadata": {
    "id": "dIJyUiNBFG8G"
   }
  },
  {
   "cell_type": "markdown",
   "source": [
    "11. (4б). Визначте рядок(str) з 4ма різними за значенням символами. Створіть ітератор на основі цього рядка. Викличте 5 разів функцію next на ітераторі, 4ри перших з них огорніть у ф-цію print()."
   ],
   "metadata": {
    "id": "13vsm0NyKIzL"
   }
  },
  {
   "cell_type": "code",
   "source": [
    "string = \"1234\"\n",
    "\n",
    "iterator = iter(string)\n",
    "\n",
    "print(next(iterator))\n",
    "print(next(iterator))\n",
    "print(next(iterator))\n",
    "print(next(iterator))\n",
    "next(iterator)"
   ],
   "metadata": {
    "id": "81ntabAkKuz-",
    "ExecuteTime": {
     "end_time": "2025-03-26T22:12:43.667048Z",
     "start_time": "2025-03-26T22:12:43.652725Z"
    }
   },
   "outputs": [
    {
     "name": "stdout",
     "output_type": "stream",
     "text": [
      "1\n",
      "2\n",
      "3\n",
      "4\n"
     ]
    },
    {
     "ename": "StopIteration",
     "evalue": "",
     "output_type": "error",
     "traceback": [
      "\u001B[1;31m---------------------------------------------------------------------------\u001B[0m",
      "\u001B[1;31mStopIteration\u001B[0m                             Traceback (most recent call last)",
      "Cell \u001B[1;32mIn[24], line 9\u001B[0m\n\u001B[0;32m      7\u001B[0m \u001B[38;5;28mprint\u001B[39m(\u001B[38;5;28mnext\u001B[39m(iterator))\n\u001B[0;32m      8\u001B[0m \u001B[38;5;28mprint\u001B[39m(\u001B[38;5;28mnext\u001B[39m(iterator))\n\u001B[1;32m----> 9\u001B[0m \u001B[38;5;28;43mnext\u001B[39;49m\u001B[43m(\u001B[49m\u001B[43miterator\u001B[49m\u001B[43m)\u001B[49m\n",
      "\u001B[1;31mStopIteration\u001B[0m: "
     ]
    }
   ],
   "execution_count": 24
  },
  {
   "cell_type": "markdown",
   "source": [
    "А що якщо викликати цю ж функцію на рядку?"
   ],
   "metadata": {
    "id": "aekWHGXOLRsO"
   }
  },
  {
   "cell_type": "code",
   "source": [
    "#???\n",
    "next(string)"
   ],
   "metadata": {
    "id": "mxATGsErLV1i",
    "ExecuteTime": {
     "end_time": "2025-03-26T22:14:33.459473Z",
     "start_time": "2025-03-26T22:14:33.448776Z"
    }
   },
   "outputs": [
    {
     "ename": "TypeError",
     "evalue": "'str' object is not an iterator",
     "output_type": "error",
     "traceback": [
      "\u001B[1;31m---------------------------------------------------------------------------\u001B[0m",
      "\u001B[1;31mTypeError\u001B[0m                                 Traceback (most recent call last)",
      "Cell \u001B[1;32mIn[27], line 1\u001B[0m\n\u001B[1;32m----> 1\u001B[0m \u001B[38;5;28;43mnext\u001B[39;49m\u001B[43m(\u001B[49m\u001B[43mstring\u001B[49m\u001B[43m)\u001B[49m\n",
      "\u001B[1;31mTypeError\u001B[0m: 'str' object is not an iterator"
     ]
    }
   ],
   "execution_count": 27
  },
  {
   "cell_type": "markdown",
   "source": [
    " 12. (5б). Опишіть своїми словами в одному реченні, як ви розумієте різницю між ітерабельними обʼєктами та ітераторами (можна на прикладі)."
   ],
   "metadata": {
    "id": "XwtMEopwJ4pH"
   }
  },
  {
   "cell_type": "markdown",
   "source": "ітерабельні об'єкти це ті що мають ітерабельний інтерфейс, ітератор це сам клас з що є ітеруємий",
   "metadata": {
    "id": "-sHrODc3KFn8"
   }
  },
  {
   "cell_type": "markdown",
   "source": [
    "13. (11б). Створіть клас, що має визначений Iterator Protocol та при кожному виклику next повертає назву дня тижня, поки вони не вичерпаються. Зверніть увагу, що порядок має значення."
   ],
   "metadata": {
    "id": "E9qJWmNbK8Gl"
   }
  },
  {
   "cell_type": "code",
   "source": [
    "class Week:\n",
    "    \n",
    "    days = ['Mon', 'Tue', 'Wed', 'Thu', 'Fri', 'Sat', 'Sun']\n",
    "    index = -1\n",
    "    \n",
    "    def __iter__(self):\n",
    "        return self\n",
    "    \n",
    "    def __next__(self):\n",
    "        if self.index < 7 :\n",
    "            self.index += 1\n",
    "            return self.days[self.index]\n",
    "        else:\n",
    "            raise StopIteration\n",
    "        \n",
    "week = Week()\n",
    "\n",
    "print(next(week))\n",
    "print(next(week))\n",
    "print(next(week))\n",
    "print(next(week))"
   ],
   "metadata": {
    "id": "cqx-g_RsLo6I",
    "ExecuteTime": {
     "end_time": "2025-03-26T22:19:43.059994Z",
     "start_time": "2025-03-26T22:19:43.052688Z"
    }
   },
   "outputs": [
    {
     "name": "stdout",
     "output_type": "stream",
     "text": [
      "Mon\n",
      "Tue\n",
      "Wed\n",
      "Thu\n"
     ]
    }
   ],
   "execution_count": 29
  },
  {
   "cell_type": "markdown",
   "source": [
    "# Вітаю! Ви велика(ий) молодець, що впоралась(вся). Похваліть себе та побалуйте чимось приємним. Я Вами пишаюся."
   ],
   "metadata": {
    "id": "Z3E3S_s1Fv7-"
   }
  }
 ]
}
