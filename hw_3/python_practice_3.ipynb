{
 "nbformat": 4,
 "nbformat_minor": 0,
 "metadata": {
  "colab": {
   "provenance": []
  },
  "kernelspec": {
   "name": "python3",
   "display_name": "Python 3 (ipykernel)",
   "language": "python"
  },
  "language_info": {
   "name": "python"
  }
 },
 "cells": [
  {
   "cell_type": "markdown",
   "source": [
    "# I. Оператори порівняння та логічні оператори. Умови."
   ],
   "metadata": {
    "id": "qDEi2Pi-4yUC"
   }
  },
  {
   "cell_type": "markdown",
   "source": [
    "1. (5б) Створіть цілочисленну змінну зі своїм щасливим або улюбленим числом. Напишіть код, який би автоматизовував наступну задачу.\n",
    "\n",
    "Якщо число парне, помножте його на 2 та виведіть результат на екран.\n",
    "\n",
    "Але якщо число непарне, помножте його на 3 та додайте 1 і виведіть на екран."
   ],
   "metadata": {
    "id": "3v8D4Dkm43Ua"
   }
  },
  {
   "cell_type": "code",
   "metadata": {
    "id": "dlVjc-Nu4bmb",
    "ExecuteTime": {
     "end_time": "2025-02-27T12:13:38.786236Z",
     "start_time": "2025-02-27T12:13:38.777587Z"
    }
   },
   "source": [
    "a = 57\n",
    "while a > 1 :\n",
    "    #a % 2 == 0 ? print(a = a*2) : print(a = a*3 + 1)\n",
    "    \n",
    "    # цей синтаксис відрізняється від більшості мов 🤔\n",
    "    a = (a / 2 if a % 2 == 0 else a*3 + 1)\n",
    "    print(a)"
   ],
   "outputs": [
    {
     "name": "stdout",
     "output_type": "stream",
     "text": [
      "172\n",
      "86.0\n",
      "43.0\n",
      "130.0\n",
      "65.0\n",
      "196.0\n",
      "98.0\n",
      "49.0\n",
      "148.0\n",
      "74.0\n",
      "37.0\n",
      "112.0\n",
      "56.0\n",
      "28.0\n",
      "14.0\n",
      "7.0\n",
      "22.0\n",
      "11.0\n",
      "34.0\n",
      "17.0\n",
      "52.0\n",
      "26.0\n",
      "13.0\n",
      "40.0\n",
      "20.0\n",
      "10.0\n",
      "5.0\n",
      "16.0\n",
      "8.0\n",
      "4.0\n",
      "2.0\n",
      "1.0\n"
     ]
    }
   ],
   "execution_count": 12
  },
  {
   "cell_type": "markdown",
   "source": [
    "2. (9б) Створіть змінну, що посилається на список. Якщо список пустий, додайте будь-який елемент у кінець списку. Якщо ж ні, то нічого не робіть."
   ],
   "metadata": {
    "id": "H669P0QK5BI_"
   }
  },
  {
   "cell_type": "code",
   "source": [
    "a = []\n",
    " \n",
    "while len(a) == 0:\n",
    "    a.append('😳')   \n",
    "    print(a)\n",
    "    \n",
    "#or\n",
    "a = []\n",
    "#це як в js: while(!a)\n",
    "while not a:\n",
    "    a.append('❇️')\n",
    "    print(a)"
   ],
   "metadata": {
    "id": "ecWlfra45f6E",
    "ExecuteTime": {
     "end_time": "2025-02-27T12:19:58.067557Z",
     "start_time": "2025-02-27T12:19:58.056053Z"
    }
   },
   "outputs": [
    {
     "name": "stdout",
     "output_type": "stream",
     "text": [
      "['😳']\n",
      "['❇️']\n"
     ]
    }
   ],
   "execution_count": 22
  },
  {
   "cell_type": "markdown",
   "source": [
    "3. (13б) Створіть рядок зі своїм імʼям латинкою. Напишіть код, який би автоматизовував наступну задачу.\n",
    "\n",
    "Якщо в імені є літера \"а\"\n",
    " або \"i\", Виведіть на екран повідомлення \"A or I is in the name\".\n",
    "\n",
    "\n",
    "\n",
    "Якщо в імені є літери \"o\" та \"n\", Виведіть на екран повідомлення \"O and N is in the name\".\n",
    "\n",
    "Також якщо в імені немає літери \"о\", але є \"n\", Виведіть на екран повідомлення \"Only N is in the name\".\n",
    "\n",
    "В решті випадків виведіть на екран повідомлення \"There is no N in the name, but there might be O\".\n",
    "\n",
    "Зверніть увагу, що, наприклад, для імені \"Antonina\" буде виведено два повідомлення."
   ],
   "metadata": {
    "id": "h9Y3cMUd5h85"
   }
  },
  {
   "cell_type": "code",
   "source": [
    "me = 'yurechko andrii'\n",
    "aExists = False\n",
    "iExists = False\n",
    "nExists = False\n",
    "oExists = False\n",
    "for char in me:\n",
    "\n",
    "    if char == 'a':\n",
    "        aExists = True\n",
    "    if char == 'i':\n",
    "        iExists = True\n",
    "    if char == 'n':\n",
    "        nExists = True\n",
    "    if char == 'o':\n",
    "        oExists = True\n",
    "\n",
    "\n",
    "if aExists or iExists:\n",
    "    print('A or I is in the name')\n",
    "if oExists and nExists:\n",
    "    print('O and N is in the name')    \n",
    "elif (not oExists) and nExists:\n",
    "    print('Only N is in the name')\n",
    "else:\n",
    "    print('There is no N in the name, but there might be O')"
   ],
   "metadata": {
    "id": "bUH4LUx35u52"
   },
   "execution_count": null,
   "outputs": []
  },
  {
   "cell_type": "markdown",
   "source": [
    "# II. Comprehensions."
   ],
   "metadata": {
    "id": "wPCXJv4354cU"
   }
  },
  {
   "cell_type": "markdown",
   "source": [
    "4. (5б) Створіть список, використовуючи if (не if-else), range та comprehension."
   ],
   "metadata": {
    "id": "jULLW5jN55Pw"
   }
  },
  {
   "cell_type": "code",
   "source": [
    "list = [num for num in range(1,11) if num != 1 and num != 5]\n",
    "print(list)"
   ],
   "metadata": {
    "id": "mlZalnVC6W3F",
    "ExecuteTime": {
     "end_time": "2025-02-27T12:38:29.769145Z",
     "start_time": "2025-02-27T12:38:29.762417Z"
    }
   },
   "outputs": [
    {
     "name": "stdout",
     "output_type": "stream",
     "text": [
      "[2, 3, 4, 6, 7, 8, 9, 10]\n"
     ]
    }
   ],
   "execution_count": 25
  },
  {
   "cell_type": "markdown",
   "source": "5. (9б) Створіть словник, використовуючи dict comprehension, що містить if else. Коли слід використовувати comprehensions, а коли їх слід уникати?",
   "metadata": {
    "id": "LqhEQ4JW6XcC"
   }
  },
  {
   "cell_type": "code",
   "source": [
    "list = {'universe is destroyed' if True == False else 'continue programming'}\n",
    "print(list)"
   ],
   "metadata": {
    "id": "1yVaFbOs6hta",
    "ExecuteTime": {
     "end_time": "2025-02-27T12:42:40.338627Z",
     "start_time": "2025-02-27T12:42:40.334121Z"
    }
   },
   "outputs": [
    {
     "name": "stdout",
     "output_type": "stream",
     "text": [
      "{'continue programming'}\n"
     ]
    }
   ],
   "execution_count": 31
  },
  {
   "cell_type": "markdown",
   "source": "Зазвичай якщо треба генеративно створити новий або змінити список, set абищо (і якщо він не буде занадто важким)",
   "metadata": {
    "id": "wbkzNhKq6hzz"
   }
  },
  {
   "cell_type": "markdown",
   "source": [
    "6. (9б) Створіть список з рядками та запишіть його у змінну. Створіть ще один список на основі попереднього, де кожен рядок буде містити тільки три перших заглавних символи. Наприклад: ['hello', 'i', 'dont', 'care'] -> ['HEL', 'I', 'DON', 'CAR']. Використання comprehensions обовʼязкове."
   ],
   "metadata": {
    "id": "ZlqB8G3G6lHP"
   }
  },
  {
   "cell_type": "code",
   "source": [
    "a = ['elou', 'i', 'am', 'careless']\n",
    "a = [word[:3].upper() for word in a]\n",
    "print(a)"
   ],
   "metadata": {
    "id": "nw6rz0bR60VC",
    "ExecuteTime": {
     "end_time": "2025-02-27T12:47:38.487542Z",
     "start_time": "2025-02-27T12:47:38.483385Z"
    }
   },
   "outputs": [
    {
     "name": "stdout",
     "output_type": "stream",
     "text": [
      "['ELO', 'I', 'AM', 'CAR']\n"
     ]
    }
   ],
   "execution_count": 32
  },
  {
   "cell_type": "markdown",
   "source": [
    "# III. Цикли."
   ],
   "metadata": {
    "id": "Tj573IAH64Fz"
   }
  },
  {
   "cell_type": "markdown",
   "source": [
    "7. (5б) Продемонструйте роботу циклу while. Не можна використовувати True для запуску циклу, щоб уникнути безкінечного циклу!"
   ],
   "metadata": {
    "id": "tN_33xdE65H5"
   }
  },
  {
   "cell_type": "code",
   "source": [
    "#Не можна використовувати True для запуску циклу, щоб уникнути безкінечного циклу!\n",
    "\n",
    "#неправда\n",
    "\n",
    "while(True):\n",
    "    print('😮')\n",
    "    #(секретна зброя)\n",
    "    break"
   ],
   "metadata": {
    "id": "Kd9FO6yG63P5",
    "ExecuteTime": {
     "end_time": "2025-02-27T12:52:29.766785Z",
     "start_time": "2025-02-27T12:52:29.762957Z"
    }
   },
   "outputs": [
    {
     "name": "stdout",
     "output_type": "stream",
     "text": [
      "😮\n"
     ]
    }
   ],
   "execution_count": 37
  },
  {
   "cell_type": "markdown",
   "source": [
    "8. (5б) Напишіть програму, яка виведе на екран непарні числа в діапазоні від 0 до 20 включно."
   ],
   "metadata": {
    "id": "x2CmfZO-7pW0"
   }
  },
  {
   "cell_type": "code",
   "source": [
    "for i in range(0, 21):\n",
    "    if i % 2 != 0:\n",
    "        print(i)"
   ],
   "metadata": {
    "id": "aCSRYA6s7tkF",
    "ExecuteTime": {
     "end_time": "2025-02-27T12:55:47.420227Z",
     "start_time": "2025-02-27T12:55:47.412342Z"
    }
   },
   "outputs": [
    {
     "name": "stdout",
     "output_type": "stream",
     "text": [
      "-1\n",
      "1\n",
      "3\n",
      "5\n",
      "7\n",
      "9\n",
      "11\n",
      "13\n",
      "15\n",
      "17\n",
      "19\n"
     ]
    }
   ],
   "execution_count": 42
  },
  {
   "cell_type": "markdown",
   "source": [
    "9. (13б) Створіть список з елементами булевого типу або None. Використовуючи цикли, отримайте в результаті список з кортежами, де перший елемент кортежу - індекс(ціле число), а другий елемент - відповідне значення з першого списку.\n",
    "\n",
    "Наприклад, [True, True, None, False] -> [(0, True), (1, True), (2, None), (3, False)]"
   ],
   "metadata": {
    "id": "MDWNocZD7t_B"
   }
  },
  {
   "cell_type": "code",
   "source": [
    "a = [True, False, None, True]\n",
    "b = []\n",
    "for index, value in enumerate(a):\n",
    "    b.append((index, value))\n",
    "    \n",
    "print(b)"
   ],
   "metadata": {
    "id": "0EUyjMdp7yfh",
    "ExecuteTime": {
     "end_time": "2025-02-27T12:58:54.284177Z",
     "start_time": "2025-02-27T12:58:54.277995Z"
    }
   },
   "outputs": [
    {
     "name": "stdout",
     "output_type": "stream",
     "text": [
      "[(0, True), (1, False), (2, None), (3, True)]\n"
     ]
    }
   ],
   "execution_count": 47
  },
  {
   "cell_type": "markdown",
   "source": [
    "10. (9б) Створіть словник, де ключі - назви книжок, а значення - їхня кількість у наявності в Вашій міні-бібліотеці. Бібліотека має містити щонайменше 6 книжок (6 пар значень у словнику) і щонайбільше 10 (пар значень). Використовуючи цикли, оновіть словник (не створюйте новий) так, щоби кількість книг у наявності збільшилося на 5 кожної книги. Наприклад,\n",
    "{'It': 3, 'Fault stars': 10, 'Bible': 17, 'Psychological romance': 4, 'Harry Potter': 13} -> {'It': 8, 'Fault stars': 15, 'Bible': 22, 'Psychological romance': 9, 'Harry Potter': 18}"
   ],
   "metadata": {
    "id": "-6XUqlcG7zKs"
   }
  },
  {
   "cell_type": "code",
   "source": [
    "library = {'It': 3, 'Fault stars': 10, 'Bible': 17, 'Psychological romance': 4, 'Harry Potter': 13}\n",
    "\n",
    "for book in library:\n",
    "    library[book] = library[book] + 5\n",
    "\n",
    "print(library)"
   ],
   "metadata": {
    "id": "Ceoj9wwb791q",
    "ExecuteTime": {
     "end_time": "2025-02-27T13:03:08.892438Z",
     "start_time": "2025-02-27T13:03:08.884821Z"
    }
   },
   "outputs": [
    {
     "name": "stdout",
     "output_type": "stream",
     "text": [
      "{'It': 8, 'Fault stars': 15, 'Bible': 22, 'Psychological romance': 9, 'Harry Potter': 18}\n"
     ]
    }
   ],
   "execution_count": 49
  },
  {
   "cell_type": "markdown",
   "source": [
    "11. (5б) Визначте цілочислену змінну n, що належить проміжку від 4 до 10 включно. Використовуючи цикли, виведіть в консоль наступний патерн.\n",
    "\n",
    "#\n",
    "##\n",
    "###\n",
    "####\n",
    "\n",
    "... #*n\n"
   ],
   "metadata": {
    "id": "QLzyJM288AC7"
   }
  },
  {
   "cell_type": "code",
   "source": [
    "n = 5\n",
    "for i in range(n):\n",
    "    print(i*'#')\n",
    "    "
   ],
   "metadata": {
    "id": "KOpng87s8Duz",
    "ExecuteTime": {
     "end_time": "2025-02-27T13:40:27.519790Z",
     "start_time": "2025-02-27T13:40:27.511976Z"
    }
   },
   "outputs": [
    {
     "name": "stdout",
     "output_type": "stream",
     "text": [
      "\n",
      "#\n",
      "##\n",
      "###\n",
      "####\n"
     ]
    }
   ],
   "execution_count": 50
  },
  {
   "cell_type": "markdown",
   "source": [
    "12. (13б) Гра \"Нумо вгадай\".\n",
    "Розробіть просту гру, де користувач має вгадати випадкове число від 1 до 100. Для генерації випадкового числа використовуйте функцію random.randint(a, b) (тут a та b включно). Для отримання числа з консолі використовуйте функцію input(), результат якої обовʼязково явно приведіть до типу int.\n",
    "\n",
    "Підказка: використовуйте цикл while та умови if-else, щоб повідомити користувачу піказки (напр. \"Більше\", \"Менше\") поки користувач не вгадає. По завершенню виведіть кількість спроб, які знадобилися для вгадування."
   ],
   "metadata": {
    "id": "_bd-bqAT8EHn"
   }
  },
  {
   "cell_type": "code",
   "source": [
    "import random\n",
    "\n",
    "number = random.randint(1, 101)\n",
    "\n",
    "guess = 0\n",
    "n = 0\n",
    "while guess != number:\n",
    "    \n",
    "    n = n + 1\n",
    "    \n",
    "    guess = int(input(':'))\n",
    "    if guess > number:\n",
    "        print('Менше')\n",
    "    if guess < number:   \n",
    "        print('Більше')\n",
    "\n",
    "print('вгадано! в ', n )"
   ],
   "metadata": {
    "id": "IK9nnxFK8Hkl",
    "ExecuteTime": {
     "end_time": "2025-02-27T13:50:52.248108Z",
     "start_time": "2025-02-27T13:50:17.889498Z"
    }
   },
   "outputs": [
    {
     "name": "stdout",
     "output_type": "stream",
     "text": [
      "Менше\n",
      "Більше\n",
      "Більше\n",
      "Менше\n",
      "Більше\n",
      "Більше\n",
      "Більше\n",
      "Більше\n",
      "Більше\n",
      "Більше\n",
      "Менше\n",
      "Менше\n",
      "Менше\n",
      "Менше\n",
      "Менше\n",
      "Менше\n",
      "Менше\n",
      "Менше\n",
      "Менше\n",
      "Більше\n",
      "Більше\n",
      "Більше\n",
      "Більше\n"
     ]
    },
    {
     "ename": "ValueError",
     "evalue": "invalid literal for int() with base 10: ''",
     "output_type": "error",
     "traceback": [
      "\u001B[1;31m---------------------------------------------------------------------------\u001B[0m",
      "\u001B[1;31mValueError\u001B[0m                                Traceback (most recent call last)",
      "Cell \u001B[1;32mIn[59], line 11\u001B[0m\n\u001B[0;32m      7\u001B[0m \u001B[38;5;28;01mwhile\u001B[39;00m guess \u001B[38;5;241m!=\u001B[39m number:\n\u001B[0;32m      9\u001B[0m     n \u001B[38;5;241m=\u001B[39m n \u001B[38;5;241m+\u001B[39m \u001B[38;5;241m1\u001B[39m\n\u001B[1;32m---> 11\u001B[0m     guess \u001B[38;5;241m=\u001B[39m \u001B[38;5;28;43mint\u001B[39;49m\u001B[43m(\u001B[49m\u001B[38;5;28;43minput\u001B[39;49m\u001B[43m(\u001B[49m\u001B[38;5;124;43m'\u001B[39;49m\u001B[38;5;124;43m:\u001B[39;49m\u001B[38;5;124;43m'\u001B[39;49m\u001B[43m)\u001B[49m\u001B[43m)\u001B[49m\n\u001B[0;32m     12\u001B[0m     \u001B[38;5;28;01mif\u001B[39;00m guess \u001B[38;5;241m>\u001B[39m number:\n\u001B[0;32m     13\u001B[0m         \u001B[38;5;28mprint\u001B[39m(\u001B[38;5;124m'\u001B[39m\u001B[38;5;124mМенше\u001B[39m\u001B[38;5;124m'\u001B[39m)\n",
      "\u001B[1;31mValueError\u001B[0m: invalid literal for int() with base 10: ''"
     ]
    }
   ],
   "execution_count": 59
  },
  {
   "cell_type": "markdown",
   "source": [
    "# Вітаю! Ви велика(ий) молодець, що впоралась(вся). Похваліть себе та побалуйте чимось приємним. Я Вами пишаюся."
   ],
   "metadata": {
    "id": "PXoXWb7Z8IGi"
   }
  }
 ]
}
