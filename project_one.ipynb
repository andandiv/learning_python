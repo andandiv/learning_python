{
 "cells": [
  {
   "metadata": {},
   "cell_type": "markdown",
   "source": [
    "### 1. Налаштування Python\n",
    "\n",
    "(вже інстальований тому я просто перевіряю версію)"
   ],
   "id": "10cdf1fe8c6dc6e7"
  },
  {
   "metadata": {},
   "cell_type": "code",
   "source": "Python --version",
   "id": "13061a00345a8160",
   "outputs": [],
   "execution_count": null
  },
  {
   "metadata": {},
   "cell_type": "markdown",
   "source": [
    "<img src=\"python_v.png\">\n",
    "\n",
    "<br><br>\n",
    "### 2. Налаштування git\n",
    "\n",
    "(вже інстальований тому я просто перевіряю версію)"
   ],
   "id": "789f49788dae0dca"
  },
  {
   "metadata": {},
   "cell_type": "code",
   "source": "git --version",
   "id": "3ba0108915a5dcad",
   "outputs": [],
   "execution_count": null
  },
  {
   "metadata": {},
   "cell_type": "markdown",
   "source": [
    "<img src=\"git_v.png\">\n",
    "\n",
    "а також перевіряємо глобальні конфігурацію"
   ],
   "id": "3f2ce8a765536262"
  },
  {
   "metadata": {},
   "cell_type": "code",
   "source": [
    "git config --global user.name\n",
    "git config --global user.email"
   ],
   "id": "c4664de095b2135b",
   "outputs": [],
   "execution_count": null
  },
  {
   "metadata": {},
   "cell_type": "markdown",
   "source": [
    "\n",
    "<img src=\"git_config.png\">\n",
    "\n",
    "### 3. Зареєструватися на github\n",
    "\n",
    "already done!\n",
    "<br><br>\n",
    "<img src=\"github_profile.png\">\n",
    "\n",
    "\n",
    "### 4./5. Встановлення Pycharm/.vscode + створення проекту\n",
    "\n",
    "\n",
    "already done!\n",
    "<br><br>\n",
    "<img src=\"pycharm.png\">\n",
    "\n",
    "### 5.c Створення файлу і \"python_practice_1.py\""
   ],
   "id": "8023bdfa6054551d"
  },
  {
   "metadata": {
    "ExecuteTime": {
     "end_time": "2025-02-13T09:58:13.084360Z",
     "start_time": "2025-02-13T09:58:13.081638Z"
    }
   },
   "cell_type": "code",
   "source": "print(\"Yurechko Andrii, IPZ-2, 3 group\")",
   "id": "1100db16e0eb8d8c",
   "outputs": [],
   "execution_count": 4
  },
  {
   "metadata": {},
   "cell_type": "markdown",
   "source": [
    "<img src=\"helloWorld.png\">\n",
    "\n",
    "\n",
    "### 6. Робота з репозиторієм"
   ],
   "id": "da43598bac392ec7"
  },
  {
   "metadata": {},
   "cell_type": "code",
   "outputs": [],
   "execution_count": null,
   "source": "git init\n",
   "id": "c7b21cd7dded69df"
  }
 ],
 "metadata": {
  "kernelspec": {
   "display_name": "Python 3",
   "language": "python",
   "name": "python3"
  },
  "language_info": {
   "codemirror_mode": {
    "name": "ipython",
    "version": 2
   },
   "file_extension": ".py",
   "mimetype": "text/x-python",
   "name": "python",
   "nbconvert_exporter": "python",
   "pygments_lexer": "ipython2",
   "version": "2.7.6"
  }
 },
 "nbformat": 4,
 "nbformat_minor": 5
}
