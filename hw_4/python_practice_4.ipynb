{
 "nbformat": 4,
 "nbformat_minor": 0,
 "metadata": {
  "colab": {
   "provenance": []
  },
  "kernelspec": {
   "name": "python3",
   "display_name": "Python 3 (ipykernel)",
   "language": "python"
  },
  "language_info": {
   "name": "python"
  }
 },
 "cells": [
  {
   "cell_type": "markdown",
   "source": [
    "# I. Functions. Arguments."
   ],
   "metadata": {
    "id": "kXpppdVm6wFy"
   }
  },
  {
   "cell_type": "markdown",
   "source": [
    "1. (5б) Назвіть основні 4 смислові  частини, з яких складається функція."
   ],
   "metadata": {
    "id": "u_krJdlbAkVz"
   }
  },
  {
   "cell_type": "markdown",
   "source": "Назва, аргументи чи параметри, тіло функції, результат (return)",
   "metadata": {
    "id": "KKTrTXmHAptb"
   }
  },
  {
   "cell_type": "markdown",
   "source": [
    "2. (3б) Визначте функцію, що приймає 2 аргументи та повертає результат ділення 1го аргумента на інший."
   ],
   "metadata": {
    "id": "ORM4PqJQAtDM"
   }
  },
  {
   "cell_type": "code",
   "metadata": {
    "id": "EuDx-z8M6sLo",
    "ExecuteTime": {
     "end_time": "2025-03-12T10:15:04.686135Z",
     "start_time": "2025-03-12T10:15:04.674441Z"
    }
   },
   "source": [
    "def divide(a: int, b: int) -> float:\n",
    "    res = a / b\n",
    "    return res"
   ],
   "outputs": [],
   "execution_count": 2
  },
  {
   "cell_type": "markdown",
   "source": [
    "3. (2б) Викличте вище визначену функцію, де другий аргумент дорівнює 0."
   ],
   "metadata": {
    "id": "5joQGQ-SAyMe"
   }
  },
  {
   "cell_type": "code",
   "source": "divide(1,0)",
   "metadata": {
    "id": "V5cBV1LOA3d-",
    "ExecuteTime": {
     "end_time": "2025-03-12T10:15:07.476682Z",
     "start_time": "2025-03-12T10:15:07.451373Z"
    }
   },
   "outputs": [
    {
     "ename": "ZeroDivisionError",
     "evalue": "division by zero",
     "output_type": "error",
     "traceback": [
      "\u001B[1;31m---------------------------------------------------------------------------\u001B[0m",
      "\u001B[1;31mZeroDivisionError\u001B[0m                         Traceback (most recent call last)",
      "Cell \u001B[1;32mIn[3], line 1\u001B[0m\n\u001B[1;32m----> 1\u001B[0m \u001B[43mdivide\u001B[49m\u001B[43m(\u001B[49m\u001B[38;5;241;43m1\u001B[39;49m\u001B[43m,\u001B[49m\u001B[38;5;241;43m0\u001B[39;49m\u001B[43m)\u001B[49m\n",
      "Cell \u001B[1;32mIn[2], line 2\u001B[0m, in \u001B[0;36mdivide\u001B[1;34m(a, b)\u001B[0m\n\u001B[0;32m      1\u001B[0m \u001B[38;5;28;01mdef\u001B[39;00m\u001B[38;5;250m \u001B[39m\u001B[38;5;21mdivide\u001B[39m(a: \u001B[38;5;28mint\u001B[39m, b: \u001B[38;5;28mint\u001B[39m) \u001B[38;5;241m-\u001B[39m\u001B[38;5;241m>\u001B[39m \u001B[38;5;28mfloat\u001B[39m:\n\u001B[1;32m----> 2\u001B[0m     res \u001B[38;5;241m=\u001B[39m \u001B[43ma\u001B[49m\u001B[43m \u001B[49m\u001B[38;5;241;43m/\u001B[39;49m\u001B[43m \u001B[49m\u001B[43mb\u001B[49m\n\u001B[0;32m      3\u001B[0m     \u001B[38;5;28;01mreturn\u001B[39;00m res\n",
      "\u001B[1;31mZeroDivisionError\u001B[0m: division by zero"
     ]
    }
   ],
   "execution_count": 3
  },
  {
   "cell_type": "markdown",
   "source": [
    "4. (4б) Перевизначте функцію так, щоби у випадку ділення на 0 функція повертала None, а в решті випадків - результат розрахунків."
   ],
   "metadata": {
    "id": "QyimWgW8A43-"
   }
  },
  {
   "cell_type": "code",
   "source": [
    "def divide(a: int, b: int):\n",
    "    if b == 0:\n",
    "        return None;\n",
    "    else:\n",
    "        res = a / b\n",
    "        return res\n",
    "    \n",
    "print(divide(1,0))"
   ],
   "metadata": {
    "id": "7VIODtSjA8Ek",
    "ExecuteTime": {
     "end_time": "2025-03-06T10:00:56.789448Z",
     "start_time": "2025-03-06T10:00:56.783416Z"
    }
   },
   "outputs": [
    {
     "name": "stdout",
     "output_type": "stream",
     "text": [
      "None\n"
     ]
    }
   ],
   "execution_count": 3
  },
  {
   "cell_type": "markdown",
   "source": [
    "5. (5б) Визначте функцію, що віднімає одне число від іншого (підказка: це буде 2 аргументи функції). При чому, якщо не визначити, скільки саме має бути віднято від числа, за замовчуванням має відніматися 1. Викличте функцію, передаючи тільки один аргумент."
   ],
   "metadata": {
    "id": "Y8mN0GfkA81l"
   }
  },
  {
   "cell_type": "code",
   "source": [
    "def minus(a: int, b: int = 0):\n",
    "    res = a - b\n",
    "    return res"
   ],
   "metadata": {
    "id": "vg1kxkdgBA50",
    "ExecuteTime": {
     "end_time": "2025-03-12T10:22:49.875253Z",
     "start_time": "2025-03-12T10:22:49.871213Z"
    }
   },
   "outputs": [],
   "execution_count": 6
  },
  {
   "cell_type": "markdown",
   "source": [
    "6. (7б) Визначте функцію, яка приймає iterable (ітерабельний обʼєкт, напр. список), що складається з 7ми рядкових значень - назв погодних умов (напр. \"sunny\") за кожен день у тижні. Повертає функція словник, де ключами є рядки з погодними умовами, а значеннями - кількість разів, скільки дана погода була протягом тижня (напр. {'sunny': 1, ...}). Викличте цю функцію та виведіть результат її роботи на екран."
   ],
   "metadata": {
    "id": "D3mwQGNOBBs4"
   }
  },
  {
   "cell_type": "code",
   "source": [
    "from typing import Iterable\n",
    "\n",
    "weatherTypes = ['sunny', 'cloudy', 'rain', 'thunderstorm', 'thunderstorm', 'sunny', 'rain']\n",
    "\n",
    "def forecast_weather(forecast: Iterable[str]):\n",
    "    #у нас уже є тип данних для цієї задачі\n",
    "    #cool!\n",
    "    # return Counter[forecast]\n",
    "    \n",
    "    dictOfEncounteredTypes = {}\n",
    "    for type in forecast:\n",
    "        dictOfEncounteredTypes[type] = dictOfEncounteredTypes.get(type, 0) + 1\n",
    "        \n",
    "    return dictOfEncounteredTypes\n",
    "\n",
    "print(forecast_weather(weatherTypes))"
   ],
   "metadata": {
    "id": "OsWm-hKcBFyn",
    "ExecuteTime": {
     "end_time": "2025-03-06T10:49:57.127024Z",
     "start_time": "2025-03-06T10:49:57.122488Z"
    }
   },
   "outputs": [
    {
     "name": "stdout",
     "output_type": "stream",
     "text": [
      "{'sunny': 2, 'cloudy': 1, 'rain': 2, 'thunderstorm': 2}\n"
     ]
    }
   ],
   "execution_count": 14
  },
  {
   "cell_type": "markdown",
   "source": [
    "7. (15б) Напишіть програму, яка б шукала необхідне число у впорядкованому списку цілочислених значень, де\n",
    "число має вводитись з консолі.\n",
    "власне алгоритм пошуку винесений в окрему функцію, яка повертає булеве значення (знайдено число - True, не знайдено - False).\n",
    "в залежності від результату функції, виведіть на екран повідомлення про успішний або ж неуспішний пошук.\n",
    "Зауваження: використовувати оператор in заборонено."
   ],
   "metadata": {
    "id": "RMiCcdOsBKQT"
   }
  },
  {
   "cell_type": "code",
   "source": [
    "#Ну насправді можна і binary search використати\n",
    "#але вже так і бути використаємо ітеративний пошук\n",
    "\n",
    "from typing import List\n",
    "\n",
    "def search(list: List[int], num: int) -> bool:\n",
    "    index = 0\n",
    "    while index < len(list):\n",
    "        if list[index] == num:\n",
    "            return True\n",
    "        index += 1\n",
    "    \n",
    "    return False\n",
    "\n",
    "print(search([1,2,5,6], 3))\n",
    "print(search([1,2,5,6], 5))\n",
    "        "
   ],
   "metadata": {
    "id": "UNCZg65OBOy-",
    "ExecuteTime": {
     "end_time": "2025-03-06T10:58:08.815109Z",
     "start_time": "2025-03-06T10:58:08.809700Z"
    }
   },
   "outputs": [
    {
     "name": "stdout",
     "output_type": "stream",
     "text": [
      "False\n",
      "True\n"
     ]
    }
   ],
   "execution_count": 19
  },
  {
   "cell_type": "markdown",
   "source": [
    "# II. Lambda functions."
   ],
   "metadata": {
    "id": "Ae1n_OvLBTsy"
   }
  },
  {
   "cell_type": "markdown",
   "source": "8. (4б) В яких випадках варто використовувати лямбда-функції?",
   "metadata": {
    "id": "xaD_wSlaCWen"
   }
  },
  {
   "cell_type": "markdown",
   "source": "для створення анонімних, локальних функцій",
   "metadata": {
    "id": "42MB6OoLCakR"
   }
  },
  {
   "cell_type": "markdown",
   "source": [
    "9. (9б) Визначте список з рядками. Після цього визначте анонімну функцію для отримання першого символу у верхньому регістрі для кожного рядка списку.\n",
    "Підказка: використовуйте анонімну функцію в якості агрумента до вбудованої ф-ції, яка створена для застосування функцій над iterable обʼєктами. Результат виведіть на екран у вигляді кортежу."
   ],
   "metadata": {
    "id": "USrzrk7GCedk"
   }
  },
  {
   "cell_type": "code",
   "source": [
    "list = [\"abC\", \"bcD\", \"cDE\", \"Вef\", \"eF\"]\n",
    "\n",
    "res = map(lambda x: x[0].upper(), list)\n",
    "\n",
    "print(tuple(res))"
   ],
   "metadata": {
    "id": "M8QWUsMlCjWH",
    "ExecuteTime": {
     "end_time": "2025-03-06T11:23:33.431607Z",
     "start_time": "2025-03-06T11:23:33.423574Z"
    }
   },
   "outputs": [
    {
     "name": "stdout",
     "output_type": "stream",
     "text": [
      "('A', 'B', 'C', 'В', 'E')\n"
     ]
    }
   ],
   "execution_count": 29
  },
  {
   "cell_type": "markdown",
   "source": [
    "10. (10б) Визначте список з числовими значеннями (і цілими, і з рухомою комою). а) Відфільтруйте всі числа, які діляться націло на 3 за допомогою вбудованої функції та анонімної функції в якості аргумента). Збережіть результат у змінній, не приводяти явно до будь-якого типу. б) Використовуючи результат на кроці 12.а у якості аргументу, та за допомогою лямбда-функції в якості іншого аргументу до вбудованої функції, додайте до кожного елементу число 1 та опісля зведіть у квадрат. Остаточний результат приведіть явно до списку та виведіть на екран."
   ],
   "metadata": {
    "id": "9fyUhXOoCtGp"
   }
  },
  {
   "cell_type": "code",
   "source": [
    "list = [1, 2, 3, 4.6, 2.6, 0.5, 5]\n",
    "\n",
    "res = filter(lambda x: x % 3 == 0, list)\n",
    "\n"
   ],
   "metadata": {
    "id": "exEx2_okCsql"
   },
   "execution_count": null,
   "outputs": []
  },
  {
   "cell_type": "markdown",
   "source": [
    "# III. Decorators."
   ],
   "metadata": {
    "id": "o_x8cG_WC7jp"
   }
  },
  {
   "cell_type": "markdown",
   "source": [
    "11. (11б) Визначте декоратор, який би виводив у консоль повідомлення про початок роботи і назву функції (напр. my_function._ _ name _ _), а після відпрацювання функції - повідомлення про закінчення роботи і назву функції, що задекорована."
   ],
   "metadata": {
    "id": "mhxS4-mfC8LQ"
   }
  },
  {
   "cell_type": "code",
   "source": [
    "def who_is_called(func):\n",
    "    def wrapper():\n",
    "        name = func.__name__\n",
    "        print('function', name, 'started')\n",
    "        func()\n",
    "        print('function', name, 'finished')\n",
    "    return wrapper\n",
    "\n",
    "@who_is_called\n",
    "def hello():\n",
    "    print('hello')\n",
    "    \n",
    "hello()"
   ],
   "metadata": {
    "id": "srd1ygWjDGhO",
    "ExecuteTime": {
     "end_time": "2025-03-06T11:37:35.032539Z",
     "start_time": "2025-03-06T11:37:35.027645Z"
    }
   },
   "outputs": [
    {
     "name": "stdout",
     "output_type": "stream",
     "text": [
      "function hello started\n",
      "hello\n",
      "function hello finished\n"
     ]
    }
   ],
   "execution_count": 30
  },
  {
   "cell_type": "markdown",
   "source": [
    "12. (4б) Задекоруйте двома різними способами функції з завдання 4 та 5 декоратором із завдання 11. (**УВАГА**: не декоруйте функції двічі!)."
   ],
   "metadata": {
    "id": "rxGZwVBiDph3"
   }
  },
  {
   "cell_type": "code",
   "source": [
    "def who_is_called(func):\n",
    "    def wrapper(*args):\n",
    "        name = func.__name__\n",
    "        print('function', name, 'started')\n",
    "        res = func(*args)\n",
    "        print('function', name, 'finished')\n",
    "        return res\n",
    "    return wrapper\n",
    "\n",
    "@who_is_called\n",
    "def divide(a: int, b: int):\n",
    "    if b == 0:\n",
    "        return None\n",
    "    else:\n",
    "        res = a / b\n",
    "        return res\n",
    "\n",
    "helloDivision = who_is_called(minus)"
   ],
   "metadata": {
    "id": "06lj7eq_DwZe",
    "ExecuteTime": {
     "end_time": "2025-03-12T10:27:39.665007Z",
     "start_time": "2025-03-12T10:27:39.661263Z"
    }
   },
   "outputs": [],
   "execution_count": 14
  },
  {
   "cell_type": "markdown",
   "source": [
    "13. (2б) Викличте одну з задекорованих функцій і виведіть її результат на екран."
   ],
   "metadata": {
    "id": "P0ep1urBDzf-"
   }
  },
  {
   "cell_type": "code",
   "source": "print(helloDivision(5, 2))",
   "metadata": {
    "id": "1QvTw0ctD0S3",
    "ExecuteTime": {
     "end_time": "2025-03-12T10:27:41.448534Z",
     "start_time": "2025-03-12T10:27:41.437955Z"
    }
   },
   "outputs": [
    {
     "name": "stdout",
     "output_type": "stream",
     "text": [
      "function minus started\n",
      "function minus finished\n",
      "3\n"
     ]
    }
   ],
   "execution_count": 15
  },
  {
   "cell_type": "markdown",
   "source": [
    "# IV. Recursion."
   ],
   "metadata": {
    "id": "poECCpuoD2S9"
   }
  },
  {
   "cell_type": "markdown",
   "source": [
    "14. (4б) Назвіть дві частини функції, які є обовʼязковими для того, щоб називати її рекурсивною."
   ],
   "metadata": {
    "id": "DqkURfdsD7MY"
   }
  },
  {
   "cell_type": "markdown",
   "source": "Функція повинна викликати саму себе, вона повинна зупинитися ",
   "metadata": {
    "id": "HYW6ttIeIQIU"
   }
  },
  {
   "cell_type": "markdown",
   "source": [
    "15. (15б) Визначте функцію, яка рекурсивно реалізовує пошук числа у послідовності Фібоначчі за її індексом (нумерація починається з нуля). Наприклад, потрібно знайти перше число у послідовності, тоді функція прийматиме 0 у якості аргумента і повертатиме 1, якщо ж знаходити третє число (індекс 2) послідовності, то функція повертатиме 2, якщо ж знаходити десяте число (індекс 9), то функція повертатиме 55."
   ],
   "metadata": {
    "id": "WYVt20UmEA35"
   }
  },
  {
   "cell_type": "code",
   "source": [
    "#112358 13\n",
    "def fib(n):\n",
    "    if (n == 0 or n == 1):\n",
    "        return 1\n",
    "    else:\n",
    "        return fib(n - 1)  + fib(n - 2)\n",
    "    \n",
    "fib(9)    "
   ],
   "metadata": {
    "id": "xIMhp05AIpV_",
    "ExecuteTime": {
     "end_time": "2025-03-12T10:31:40.855515Z",
     "start_time": "2025-03-12T10:31:40.846208Z"
    }
   },
   "outputs": [
    {
     "data": {
      "text/plain": [
       "55"
      ]
     },
     "execution_count": 18,
     "metadata": {},
     "output_type": "execute_result"
    }
   ],
   "execution_count": 18
  },
  {
   "cell_type": "markdown",
   "source": [
    "# Вітаю! Ви велика(ий) молодець, що впоралась(вся). Похваліть себе та побалуйте чимось приємним. Я Вами пишаюся."
   ],
   "metadata": {
    "id": "ytXC8n_4Ip0W"
   }
  }
 ]
}
