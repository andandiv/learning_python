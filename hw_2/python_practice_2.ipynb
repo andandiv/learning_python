{
 "nbformat": 4,
 "nbformat_minor": 0,
 "metadata": {
  "colab": {
   "provenance": []
  },
  "kernelspec": {
   "name": "python3",
   "display_name": "Python 3 (ipykernel)",
   "language": "python"
  },
  "language_info": {
   "name": "python"
  }
 },
 "cells": [
  {
   "cell_type": "markdown",
   "source": [
    "# I. Змінні та памʼять."
   ],
   "metadata": {
    "id": "p9wwt0LZzNvn"
   }
  },
  {
   "cell_type": "markdown",
   "source": [
    "1. Створити змінні, що посилаються на два цілих числа, що однакові за значенням, де значення належить проміжку від -5 до 256. Перевірте, чи будуть ці змінні рівні тільки за значенням або ж ще будуть посилатися на один і той самий обʼєкт в памʼяті? Наведіть код та дайте текстову відповідь нижче."
   ],
   "metadata": {
    "id": "HTJrrm95xSV9"
   }
  },
  {
   "cell_type": "code",
   "metadata": {
    "id": "TATni2vzayjG",
    "ExecuteTime": {
     "end_time": "2025-02-20T08:47:51.036030Z",
     "start_time": "2025-02-20T08:47:51.027253Z"
    }
   },
   "source": [
    "a = 10\n",
    "b = 10\n",
    "\n",
    "#Однакові значення?\n",
    "print(a == b) #true\n",
    "\n",
    "#Однаковий поінтер?\n",
    "print(a is b) #true"
   ],
   "outputs": [
    {
     "name": "stdout",
     "output_type": "stream",
     "text": [
      "True\n",
      "True\n"
     ]
    }
   ],
   "execution_count": 3
  },
  {
   "cell_type": "markdown",
   "source": [
    "True\n",
    "\n",
    "True\n",
    "\n",
    "Деякі значення вже є зарезервовані тому Python додав посилання на той самий об'єкт\n",
    "Самі ж значення однакові тому == повернув True"
   ],
   "metadata": {
    "id": "zfRG_o3WbRdg"
   }
  },
  {
   "cell_type": "markdown",
   "source": [
    "2. За допомогою якої функції можна перевірити належність змінної до вказаного типу даних (напр. чи змінна True посилається на значення булевого та цілочисленого типу)?"
   ],
   "metadata": {
    "id": "ISORzt6M3vAt"
   }
  },
  {
   "cell_type": "code",
   "source": [
    "#можна:\n",
    "a = True\n",
    "b = 5\n",
    "print(type(a) == bool) #true бо це дійсно bool\n",
    "print(type(b) == bool) #false бо це насправді integer \n",
    "print(type(b) == int) #true бо дійсно змінна\n",
    "\n",
    "#або ж:\n",
    "print(isinstance(a, bool))\n",
    "print(isinstance(b, int))"
   ],
   "metadata": {
    "id": "9vL9CFaMbfyo",
    "ExecuteTime": {
     "end_time": "2025-02-20T08:56:37.520365Z",
     "start_time": "2025-02-20T08:56:37.502328Z"
    }
   },
   "outputs": [
    {
     "name": "stdout",
     "output_type": "stream",
     "text": [
      "True\n",
      "False\n",
      "True\n",
      "True\n",
      "True\n"
     ]
    }
   ],
   "execution_count": 10
  },
  {
   "cell_type": "markdown",
   "source": [
    "# II. Цілі числа та числа з рухомою комою"
   ],
   "metadata": {
    "id": "tRxugKAxwYLw"
   }
  },
  {
   "cell_type": "markdown",
   "source": [
    "3. Створити дві змінні, що посилаються на будь-які ціле число та число з рухомою комою та продемонструвати такі арифметичні операції: додавання, віднімання, ділення, множення, ділення без залишку, ділення по модулю, приведення до ступеню. Всі результати операцій вивести на екран."
   ],
   "metadata": {
    "id": "NLHkgd5Gybc8"
   }
  },
  {
   "cell_type": "code",
   "source": [
    "a = 3\n",
    "b = 2.0\n",
    "\n",
    "print(a + b)\n",
    "print(a - b)\n",
    "print(a / b)\n",
    "print(a * b)\n",
    "print(a // b)\n",
    "print(a % b)\n",
    "print(a ** b)\n",
    "\n",
    "#зручно що кастуються одразу в float тип а не як в деяких мовах🤔:\n",
    "#напр в джаві a / b дало б 1 (decimal частина просто відкинулася б)"
   ],
   "metadata": {
    "id": "nb8u_3pjb2cA",
    "ExecuteTime": {
     "end_time": "2025-02-20T09:06:22.373161Z",
     "start_time": "2025-02-20T09:06:22.368795Z"
    }
   },
   "outputs": [
    {
     "name": "stdout",
     "output_type": "stream",
     "text": [
      "5.0\n",
      "1.0\n",
      "1.5\n",
      "6.0\n",
      "1.0\n",
      "1.0\n",
      "9.0\n"
     ]
    }
   ],
   "execution_count": 15
  },
  {
   "cell_type": "markdown",
   "source": [
    "4. Використовуючи змінні з вправи 3, продемонструйте механізм явного перетворення типів, де числа з рухомою комою перетворюються на цілі числа. Також визначте змінну, що посилається на значення булевого типу і спробуйте явно привести її до цілого числа."
   ],
   "metadata": {
    "id": "1kBClKgPzZnC"
   }
  },
  {
   "cell_type": "code",
   "source": [
    "#кастуємо\n",
    "a = float(a) #а в float\n",
    "\n",
    "# \"(додам ще .5, щоб побачити що буде з дробовою при кастуванні в менш визначений тип, ймовірно просто відкинеться)\n",
    "b = b + 0.5\n",
    "b = int(b) #з комою в цілий\n",
    "\n",
    "c = True\n",
    "c = int(c)\n",
    "\n",
    "print(a, b, c)"
   ],
   "metadata": {
    "id": "TbqJbkeUcKsD",
    "ExecuteTime": {
     "end_time": "2025-02-20T09:11:25.710464Z",
     "start_time": "2025-02-20T09:11:25.694823Z"
    }
   },
   "outputs": [
    {
     "name": "stdout",
     "output_type": "stream",
     "text": [
      "3.0 2 1\n"
     ]
    }
   ],
   "execution_count": 16
  },
  {
   "cell_type": "markdown",
   "source": [
    "# IІІ. Рядки (String)."
   ],
   "metadata": {
    "id": "EVJ7AflwxrZi"
   }
  },
  {
   "cell_type": "markdown",
   "source": [
    "5. Створити пустий рядок двома різними способами."
   ],
   "metadata": {
    "id": "_s5ECzz9zE61"
   }
  },
  {
   "cell_type": "code",
   "source": [
    "a = '' #ну char-у у нас же немає. Рахується? Рахується! \n",
    "b = \"\"\n",
    "d = str()"
   ],
   "metadata": {
    "id": "fkZJHu9Scvc-"
   },
   "execution_count": null,
   "outputs": []
  },
  {
   "cell_type": "markdown",
   "source": [
    "6. Створити рядок з апострофом. Зробити його сирим. Вивести обидва рядка на екран."
   ],
   "metadata": {
    "id": "4Bdn9J3MzLf_"
   }
  },
  {
   "cell_type": "code",
   "source": [
    "a = '`'\n",
    "print(a)\n",
    "a = f'`'\n",
    "print(a)"
   ],
   "metadata": {
    "id": "ivji_hsmc0GH"
   },
   "execution_count": null,
   "outputs": []
  },
  {
   "cell_type": "markdown",
   "source": [
    "7. Створити змінну, що буде посилатися на Ваше прізвище латинкою. Створити форматований рядок, який буде мати вигляд \"My surname is ______\", де на місці нижніх підкреслень буде Ваше прізвище зі змінної."
   ],
   "metadata": {
    "id": "bg_d8wM4z8dS"
   }
  },
  {
   "cell_type": "code",
   "source": [
    "me = 'Yurechko'\n",
    "print(f'My surname is {me}')"
   ],
   "metadata": {
    "id": "kuxFgpWndACq",
    "ExecuteTime": {
     "end_time": "2025-02-20T09:20:58.161344Z",
     "start_time": "2025-02-20T09:20:58.150698Z"
    }
   },
   "outputs": [
    {
     "name": "stdout",
     "output_type": "stream",
     "text": [
      "My surname is Yurechko\n"
     ]
    }
   ],
   "execution_count": 17
  },
  {
   "cell_type": "markdown",
   "source": [
    "8. Маючи рядок \"My dog is crazy.\" перетворити його на список [\"my\", \"dog\", \"is\", \"crazy\"]"
   ],
   "metadata": {
    "id": "1Nc6RqvQ0hxU"
   }
  },
  {
   "cell_type": "code",
   "source": [
    "crazyStr = 'My dog is crazy'\n",
    "print(crazyStr.split())"
   ],
   "metadata": {
    "id": "w1Ya4RqedUhw",
    "ExecuteTime": {
     "end_time": "2025-02-20T09:22:19.723375Z",
     "start_time": "2025-02-20T09:22:19.711323Z"
    }
   },
   "outputs": [
    {
     "name": "stdout",
     "output_type": "stream",
     "text": [
      "['My', 'dog', 'is', 'crazy']\n"
     ]
    }
   ],
   "execution_count": 18
  },
  {
   "cell_type": "markdown",
   "source": [
    "# IV. Робота зі списками."
   ],
   "metadata": {
    "id": "GYVqN9uP1D4n"
   }
  },
  {
   "cell_type": "markdown",
   "source": [
    "9. Створити список двома різними за синтаксисом способами. За допомогою вбудованої функції обчисліть довжину одного з них."
   ],
   "metadata": {
    "id": "7-DeDunw2sO-"
   }
  },
  {
   "cell_type": "code",
   "source": [
    "a = ['a',2,True]\n",
    "b = list(('a',2,True))\n",
    "print(len(a))"
   ],
   "metadata": {
    "id": "zxg06Uuxdyoh",
    "ExecuteTime": {
     "end_time": "2025-02-20T09:42:46.919701Z",
     "start_time": "2025-02-20T09:42:46.910096Z"
    }
   },
   "outputs": [
    {
     "name": "stdout",
     "output_type": "stream",
     "text": [
      "3\n"
     ]
    }
   ],
   "execution_count": 43
  },
  {
   "cell_type": "markdown",
   "source": [
    "10. Створіть два списка та за допомогою спеціального методу додайте другий з них в якості останнього елемента першого."
   ],
   "metadata": {
    "id": "8vmGUTjL22gI"
   }
  },
  {
   "cell_type": "code",
   "source": [
    "a = [1,2,3]\n",
    "b = [4,'a']\n",
    "a.append(b)\n",
    "\n",
    "print(a)"
   ],
   "metadata": {
    "id": "uHtjWYw7d7hm",
    "ExecuteTime": {
     "end_time": "2025-02-20T09:27:14.672320Z",
     "start_time": "2025-02-20T09:27:14.665407Z"
    }
   },
   "outputs": [
    {
     "name": "stdout",
     "output_type": "stream",
     "text": [
      "[1, 2, 3, [4, 'a']]\n"
     ]
    }
   ],
   "execution_count": 24
  },
  {
   "cell_type": "markdown",
   "source": [
    "11. Створіть список, де елементами цього списку також є списки. Отримай перший елемент з останнього рядка та виведи значення на екран."
   ],
   "metadata": {
    "id": "JC3BkD-67_--"
   }
  },
  {
   "cell_type": "code",
   "source": [
    "a = [['a', False], True, [2,'b']]\n",
    "print(a[2][0])\n",
    "#або ж \n",
    "print(a[-1][0])"
   ],
   "metadata": {
    "id": "Kz2jZHsGeLlz",
    "ExecuteTime": {
     "end_time": "2025-02-20T09:29:57.606313Z",
     "start_time": "2025-02-20T09:29:57.594285Z"
    }
   },
   "outputs": [
    {
     "name": "stdout",
     "output_type": "stream",
     "text": [
      "2\n",
      "2\n"
     ]
    }
   ],
   "execution_count": 25
  },
  {
   "cell_type": "markdown",
   "source": [
    "12. Створіть список з десяти елементів різного типу. Отримайте всі елементи, окрім двох перших та двох останніх та збережіть їх в новій змінній."
   ],
   "metadata": {
    "id": "JA47PKTv8zFK"
   }
  },
  {
   "cell_type": "code",
   "source": [
    "a = [1, 1.0, '🐍', [], True, {}, (2, 3), None, bytes(5), 1j]\n",
    "b = a[2:-2]\n",
    "print(b)"
   ],
   "metadata": {
    "id": "_rHdUR-ueP4-",
    "ExecuteTime": {
     "end_time": "2025-02-20T09:37:02.446052Z",
     "start_time": "2025-02-20T09:37:02.441601Z"
    }
   },
   "outputs": [
    {
     "name": "stdout",
     "output_type": "stream",
     "text": [
      "['🐍', [], True, {}, (2, 3), None]\n"
     ]
    }
   ],
   "execution_count": 31
  },
  {
   "cell_type": "markdown",
   "source": [
    "# V. Робота з кортежами."
   ],
   "metadata": {
    "id": "pCjR1dJb1Qbi"
   }
  },
  {
   "cell_type": "markdown",
   "source": [
    "14. Створити кортеж з один елементом."
   ],
   "metadata": {
    "id": "fAZCxAX06R_k"
   }
  },
  {
   "cell_type": "code",
   "source": [
    "a = ('🔥',)\n",
    "print(a)"
   ],
   "metadata": {
    "id": "H7d82WkQev3e",
    "ExecuteTime": {
     "end_time": "2025-02-20T09:40:36.077690Z",
     "start_time": "2025-02-20T09:40:36.070244Z"
    }
   },
   "outputs": [
    {
     "name": "stdout",
     "output_type": "stream",
     "text": [
      "('🔥',)\n"
     ]
    }
   ],
   "execution_count": 39
  },
  {
   "cell_type": "markdown",
   "source": [
    "15. Порівняйте список та кортеж. Назвіть схожості та відмінності, випадки використання."
   ],
   "metadata": {
    "id": "8LCtYcmI6w1M"
   }
  },
  {
   "cell_type": "markdown",
   "source": [
    "Обидва індексуютья та можуть зберігати декілька об'єктів\n",
    "\n",
    "кортеж не змінююється, наприклад присвоєння призведе до: \n",
    "TypeError: 'tuple' object does not support item assignment\n",
    "\n",
    "tuple зручніше якщо ми один раз записуємо і потім лише читаємо"
   ],
   "metadata": {
    "id": "fUsN1Hnue0C6"
   }
  },
  {
   "cell_type": "markdown",
   "source": [
    "16. Створіть кортеж з 11ти елементів чисел з рухомою комою та отримайте кожен парний за індексом елемент в зворотньому порядку. Наприклад, маючи (1.2, 2.3, 3.3, 4.3, 5.3, 6.3, 7.3, 8.3, 9.3, 0.3), отримати (0.3, 8.3, 6.3, 4.3, 2.3). Результат збережіть в нову змінну та виведіть на екран."
   ],
   "metadata": {
    "id": "m0xrwFijAmDD"
   }
  },
  {
   "cell_type": "code",
   "source": [
    "a = (1.2, 2.3, 3.3, 4.3, 5.3, 6.3, 7.3, 8.3, 9.3, 0.3)\n",
    "b = a[-1::-2] #якщо чесно до цього синтаксису ще треба звикнути\n",
    "print(b)"
   ],
   "metadata": {
    "id": "p-5DAH6XfAGA",
    "ExecuteTime": {
     "end_time": "2025-02-20T09:49:40.474795Z",
     "start_time": "2025-02-20T09:49:40.464029Z"
    }
   },
   "outputs": [
    {
     "name": "stdout",
     "output_type": "stream",
     "text": [
      "(0.3, 8.3, 6.3, 4.3, 2.3)\n"
     ]
    }
   ],
   "execution_count": 46
  },
  {
   "cell_type": "markdown",
   "source": [
    "# VI. Множини (Set)."
   ],
   "metadata": {
    "id": "rW_I9dt3x6cW"
   }
  },
  {
   "cell_type": "markdown",
   "source": [
    "17. Створити множину без елементів. Після цого за допомогою методу додайте кілька різних елементів до множини. Чи множини є змінним типом даних?"
   ],
   "metadata": {
    "id": "zNjRLHLw1Bgg"
   }
  },
  {
   "cell_type": "code",
   "source": [
    "a = set()\n",
    "a.add('🐍')\n",
    "a.add('❤️')\n",
    "a.add('🍔')\n",
    "\n",
    "print(a)"
   ],
   "metadata": {
    "id": "KOv7zc2Kfo4N",
    "ExecuteTime": {
     "end_time": "2025-02-20T09:57:20.218993Z",
     "start_time": "2025-02-20T09:57:20.214100Z"
    }
   },
   "outputs": [
    {
     "name": "stdout",
     "output_type": "stream",
     "text": [
      "{'🐍', '❤️', '🍔'}\n"
     ]
    }
   ],
   "execution_count": 53
  },
  {
   "cell_type": "markdown",
   "source": "так, obviously\n",
   "metadata": {
    "id": "vxS6dVYiftZQ"
   }
  },
  {
   "cell_type": "markdown",
   "source": [
    "18. Створити множину, маючи список my_list = [1, 1, 2, 67, 67, 8, 9]. Пояснити, чому \"зникли\" деякі елементи."
   ],
   "metadata": {
    "id": "gHpT0Zw_1HEF"
   }
  },
  {
   "cell_type": "code",
   "source": [
    "someList = [1,1,2,67,67,8,9]\n",
    "someSet = set(someList)\n",
    "print(someSet)"
   ],
   "metadata": {
    "id": "qCN4uvJ_fxmu",
    "ExecuteTime": {
     "end_time": "2025-02-20T09:58:35.052589Z",
     "start_time": "2025-02-20T09:58:35.048275Z"
    }
   },
   "outputs": [
    {
     "name": "stdout",
     "output_type": "stream",
     "text": [
      "{1, 2, 67, 8, 9}\n"
     ]
    }
   ],
   "execution_count": 55
  },
  {
   "cell_type": "markdown",
   "source": "Не можна мати дублікати",
   "metadata": {
    "id": "tFNc1e20fyny"
   }
  },
  {
   "cell_type": "markdown",
   "source": [
    "19. Створіть дві множини. Продемонстуйте над ними операції: обʼєднання, різниці, пересічі та симетричної різниці. Використовуйте методи, що не змінюють множини, а створюють нові."
   ],
   "metadata": {
    "id": "SRMkGizS1UwY"
   }
  },
  {
   "cell_type": "code",
   "source": [
    "a = {1,2,3}\n",
    "b = {2,3,4}\n",
    "\n",
    "print(a.union(b))\n",
    "print(a.difference(b))\n",
    "print(a.intersection(b))\n",
    "print(a.symmetric_difference(b))"
   ],
   "metadata": {
    "id": "h0T-VuDnf3Ri",
    "ExecuteTime": {
     "end_time": "2025-02-20T12:45:55.304968Z",
     "start_time": "2025-02-20T12:45:55.299563Z"
    }
   },
   "outputs": [
    {
     "name": "stdout",
     "output_type": "stream",
     "text": [
      "{1, 2, 3, 4}\n",
      "{1}\n",
      "{2, 3}\n",
      "{1, 4}\n"
     ]
    }
   ],
   "execution_count": 4
  },
  {
   "cell_type": "markdown",
   "source": [
    "# VII. Словники (Dictionary)."
   ],
   "metadata": {
    "id": "kWc8gkzTx7Ea"
   }
  },
  {
   "cell_type": "markdown",
   "source": [
    "20. Створіть пустий словник. До нього додайте чотири пари елементів такі, щоб їхні ключі були різних типів. Чи може список бути ключем? Чому?"
   ],
   "metadata": {
    "id": "i5FLwj-B2ybQ"
   }
  },
  {
   "cell_type": "code",
   "source": [
    "a = {}\n",
    "\n",
    "a[0] = 0\n",
    "a['😲'] = '🍩'\n",
    "a[True] = False\n",
    "a[None] = a\n",
    "\n",
    "\n",
    "print(a)\n",
    "\n",
    "\n",
    "#але я мушу визнати це absolutely criminal\n",
    "print(a[None][None][None]['😲'])"
   ],
   "metadata": {
    "id": "hxgv3BzrgLAV",
    "ExecuteTime": {
     "end_time": "2025-02-20T13:02:10.043531Z",
     "start_time": "2025-02-20T13:02:10.032434Z"
    }
   },
   "outputs": [
    {
     "name": "stdout",
     "output_type": "stream",
     "text": [
      "{0: 0, '😲': '🍩', True: False, None: {...}}\n",
      "🍩\n"
     ]
    }
   ],
   "execution_count": 18
  },
  {
   "cell_type": "markdown",
   "source": "Це просто посилання на об'єкт, напр. ми можемо посилатись на себе і брати себе ж. Тому так, можемо",
   "metadata": {
    "id": "zwa7UVN-gR3m"
   }
  },
  {
   "cell_type": "markdown",
   "source": [
    "21. Створіть словник, де значенням в одній з пар теж буде словник, який теж має вкладений словник. Виведіть на екран значення, що міститься в словнику, що знаходиться на найнижчому рівні ієрархії вкладеності (найбільш внутрішній)."
   ],
   "metadata": {
    "id": "WM_pMlJsgoNf"
   }
  },
  {
   "cell_type": "code",
   "source": [
    "c = {\"😵‍💫\": \"🤯\"}\n",
    "b = {\"😵\":c}\n",
    "a = {\"💀\":b}\n",
    "\n",
    "print(a[\"💀\"][\"😵\"])\n",
    "\n",
    "#fun arithmetic!\n",
    "zeroChar = \"\\u200D\"\n",
    "print(\"😵\" + zeroChar + \"💫\")\n",
    "\n",
    "\n",
    "#це філософське питання чи дійдемо до найбільш внутрішнього (скоріше ні)\n",
    "a[\"🤯\"] = a\n",
    "while True:\n",
    "   a = a[\"🤯\"]"
   ],
   "metadata": {
    "id": "60dlP7IHhAy4",
    "ExecuteTime": {
     "end_time": "2025-02-20T13:17:10.419813Z",
     "start_time": "2025-02-20T13:17:05.809394Z"
    }
   },
   "outputs": [
    {
     "name": "stdout",
     "output_type": "stream",
     "text": [
      "{'😵\\u200d💫': '🤯'}\n",
      "😵‍💫\n"
     ]
    },
    {
     "ename": "KeyboardInterrupt",
     "evalue": "",
     "output_type": "error",
     "traceback": [
      "\u001B[1;31m---------------------------------------------------------------------------\u001B[0m",
      "\u001B[1;31mKeyboardInterrupt\u001B[0m                         Traceback (most recent call last)",
      "Cell \u001B[1;32mIn[32], line 14\u001B[0m\n\u001B[0;32m     12\u001B[0m \u001B[38;5;66;03m#це філософське питання чи дійдемо до найбільш внутрішнього (скоріше ні)\u001B[39;00m\n\u001B[0;32m     13\u001B[0m a[\u001B[38;5;124m\"\u001B[39m\u001B[38;5;124m🤯\u001B[39m\u001B[38;5;124m\"\u001B[39m] \u001B[38;5;241m=\u001B[39m a\n\u001B[1;32m---> 14\u001B[0m \u001B[38;5;28;01mwhile\u001B[39;00m \u001B[38;5;28;01mTrue\u001B[39;00m:\n\u001B[0;32m     15\u001B[0m    a \u001B[38;5;241m=\u001B[39m a[\u001B[38;5;124m\"\u001B[39m\u001B[38;5;124m🤯\u001B[39m\u001B[38;5;124m\"\u001B[39m]\n",
      "\u001B[1;31mKeyboardInterrupt\u001B[0m: "
     ]
    }
   ],
   "execution_count": 32
  },
  {
   "cell_type": "markdown",
   "source": [
    "# Вітаю! Ви велика(ий) молодець, що впоралась(вся). Похваліть себе та побалуйте чимось приємним. Я Вами пишаюся."
   ],
   "metadata": {
    "id": "xOZP0hkx6cCr"
   }
  }
 ]
}
